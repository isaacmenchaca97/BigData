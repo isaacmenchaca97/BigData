{
  "nbformat": 4,
  "nbformat_minor": 0,
  "metadata": {
    "colab": {
      "provenance": [],
      "include_colab_link": true
    },
    "kernelspec": {
      "name": "python3",
      "display_name": "Python 3"
    },
    "language_info": {
      "name": "python"
    },
    "accelerator": "GPU"
  },
  "cells": [
    {
      "cell_type": "markdown",
      "metadata": {
        "id": "view-in-github",
        "colab_type": "text"
      },
      "source": [
        "<a href=\"https://colab.research.google.com/github/isaacmenchaca97/BigData/blob/main/Word2Vec.ipynb\" target=\"_parent\"><img src=\"https://colab.research.google.com/assets/colab-badge.svg\" alt=\"Open In Colab\"/></a>"
      ]
    },
    {
      "cell_type": "markdown",
      "source": [
        "\n",
        "\n",
        "# Word2Vec Tutorial"
      ],
      "metadata": {
        "id": "WfuNqI_TJihu"
      }
    },
    {
      "cell_type": "markdown",
      "source": [
        "We're using the [Coronavirus Tweets Dataset](https://www.kaggle.com/datatattle/covid-19-nlp-text-classification) from Kaggle for this tutorial. You can check out my [medium article](https://medium.com/@manansuri/a-dummys-guide-to-word2vec-456444f3c673) that complements this."
      ],
      "metadata": {
        "id": "2U-1OGLXZ1Tj"
      }
    },
    {
      "cell_type": "code",
      "source": [
        "import numpy as np\n",
        "import matplotlib.pyplot as plt\n",
        "import pandas as pd"
      ],
      "metadata": {
        "id": "aQH0x-7cJvKQ"
      },
      "execution_count": null,
      "outputs": []
    },
    {
      "cell_type": "markdown",
      "source": [
        "## Importing the Dataset + Text Preprocessing"
      ],
      "metadata": {
        "id": "uq0ZOCg2Job0"
      }
    },
    {
      "cell_type": "code",
      "source": [
        "dataset = pd.read_csv('Corona_NLP_train.csv', encoding='latin1')"
      ],
      "metadata": {
        "id": "P4vikPdgJtv0"
      },
      "execution_count": null,
      "outputs": []
    },
    {
      "cell_type": "markdown",
      "source": [
        "Very basic text preproccessing by removing punctuations, numbers. We have also cleaned the data by removing characters including and after 'https' in the text."
      ],
      "metadata": {
        "id": "tzxNFBBfafeS"
      }
    },
    {
      "cell_type": "code",
      "source": [
        "import re\n",
        "texts=[]\n",
        "for i in range(0,len(dataset)):\n",
        "  text = re.sub('[^a-zA-Z]' , ' ', dataset['OriginalTweet'][i])\n",
        "  text = text.lower()\n",
        "  text = text.split()\n",
        "  x = len(text) if text.count('https') ==0  else text.index('https')\n",
        "  text = text[: x ]\n",
        "  text = [t for t in text if not t=='https']\n",
        "  text = ' '.join(text)\n",
        "  texts.append(text)\n"
      ],
      "metadata": {
        "id": "4TAhx3inJ_O4"
      },
      "execution_count": null,
      "outputs": []
    },
    {
      "cell_type": "markdown",
      "source": [
        "Size of the dataset."
      ],
      "metadata": {
        "id": "xkrW9cctbFU6"
      }
    },
    {
      "cell_type": "code",
      "source": [
        "print(len(texts))"
      ],
      "metadata": {
        "colab": {
          "base_uri": "https://localhost:8080/"
        },
        "id": "VY91SigRK_-z",
        "outputId": "54b387c5-0c70-4f10-d407-c284c7c7478b"
      },
      "execution_count": null,
      "outputs": [
        {
          "output_type": "stream",
          "name": "stdout",
          "text": [
            "41157\n"
          ]
        }
      ]
    },
    {
      "cell_type": "markdown",
      "source": [
        "## Training the word2vec model"
      ],
      "metadata": {
        "id": "-UpeRPOtbRA4"
      }
    },
    {
      "cell_type": "code",
      "source": [
        "from gensim.models import Word2Vec\n"
      ],
      "metadata": {
        "id": "x6G_EOnzLrNr"
      },
      "execution_count": null,
      "outputs": []
    },
    {
      "cell_type": "code",
      "source": [
        "sentences = [line.split() for line in texts]\n",
        "\n",
        "w2v =Word2Vec(sentences, size=100, window=5, workers=4, iter=10, min_count=5)"
      ],
      "metadata": {
        "id": "TOEQj-VlLsEG"
      },
      "execution_count": null,
      "outputs": []
    },
    {
      "cell_type": "code",
      "source": [
        "print(sentences[20:25])"
      ],
      "metadata": {
        "colab": {
          "base_uri": "https://localhost:8080/"
        },
        "id": "yBEn_UrmxdaW",
        "outputId": "22d00d68-6b3d-46f3-97da-a4c61792a861"
      },
      "execution_count": null,
      "outputs": [
        {
          "output_type": "stream",
          "name": "stdout",
          "text": [
            "[['with', 'nations', 'inficted', 'with', 'covid', 'the', 'world', 'must', 'not', 'play', 'fair', 'with', 'china', 'goverments', 'must', 'demand', 'china', 'adopts', 'new', 'guilde', 'lines', 'on', 'food', 'safty', 'the', 'chinese', 'goverment', 'is', 'guilty', 'of', 'being', 'irosponcible', 'with', 'life', 'on', 'a', 'global', 'scale'], [], ['we', 'have', 'amazing', 'cheap', 'deals', 'for', 'the', 'covid', 'going', 'on', 'to', 'help', 'you', 'trials', 'monthly', 'yearly', 'and', 'resonable', 'prices', 'subscriptions', 'just', 'dm', 'us', 'bestiptv', 'iptv', 'service', 'iptv', 'iptvdeals', 'cheap', 'iptv', 'football', 'hd', 'movies', 'adult', 'cinema', 'hotmovies', 'iptvnew', 'iptv', 'adult'], ['we', 'have', 'amazing', 'cheap', 'deals', 'for', 'the', 'covid', 'going', 'on', 'to', 'help', 'you', 'trials', 'monthly', 'yearly', 'and', 'resonable', 'prices', 'subscriptions', 'just', 'dm', 'us', 'bestiptv', 'iptv', 'service', 'iptv', 'iptvdeals', 'cheap', 'iptv', 'football', 'hd', 'movies', 'adult', 'cinema', 'hotmovies', 'iptv', 'iptvlinks', 'movies'], ['downingstreet', 'grantshapps', 'what', 'is', 'being', 'done', 'to', 'ensure', 'food', 'and', 'other', 'essential', 'products', 'are', 'being', 're', 'stocked', 'at', 'supermarkets', 'and', 'panic', 'buying', 'actively', 'discouraged', 'it', 'cannot', 'be', 'left', 'to', 'checkout', 'staff', 'to', 'police', 'the', 'actions', 'of', 'the', 'selfish', 'and', 'profiteer']]\n"
          ]
        }
      ]
    },
    {
      "cell_type": "markdown",
      "source": [
        "## Working with word2vec"
      ],
      "metadata": {
        "id": "5RLH55l3bo2U"
      }
    },
    {
      "cell_type": "markdown",
      "source": [
        "Finding the vocabulary of the model can be useful in several general applications, and in this case, provides us with a list of words we can try and use other functions."
      ],
      "metadata": {
        "id": "dJMH7c2DbxaT"
      }
    },
    {
      "cell_type": "code",
      "source": [
        "words = list(w2v.wv.vocab)\n"
      ],
      "metadata": {
        "id": "Hh3yF2HgMeyq"
      },
      "execution_count": null,
      "outputs": []
    },
    {
      "cell_type": "code",
      "source": [
        "print(words)"
      ],
      "metadata": {
        "id": "eYGG6ySCMir4"
      },
      "execution_count": null,
      "outputs": []
    },
    {
      "cell_type": "code",
      "source": [
        "print(len(words))"
      ],
      "metadata": {
        "colab": {
          "base_uri": "https://localhost:8080/"
        },
        "id": "ShNxt4qfYuNk",
        "outputId": "63749a5d-6713-42c1-fd70-7429de21a20d"
      },
      "execution_count": null,
      "outputs": [
        {
          "output_type": "stream",
          "name": "stdout",
          "text": [
            "10630\n"
          ]
        }
      ]
    },
    {
      "cell_type": "markdown",
      "source": [
        "Finding the embedding of a given word can be useful when we’re trying to represent sentences as a collection of word embeddings, like when we’re trying to make a weight matrix for the embedding layer of a network."
      ],
      "metadata": {
        "id": "BM809WQbb3Qb"
      }
    },
    {
      "cell_type": "code",
      "source": [
        "print( w2v.wv['computer'] )"
      ],
      "metadata": {
        "colab": {
          "base_uri": "https://localhost:8080/"
        },
        "id": "hyHInX6agJO2",
        "outputId": "1c30f9e3-a9d2-4a8b-9a33-13e5e557129a"
      },
      "execution_count": null,
      "outputs": [
        {
          "output_type": "stream",
          "name": "stdout",
          "text": [
            "[ 1.57469660e-01  1.40157074e-01 -3.25907797e-01 -6.61702231e-02\n",
            "  3.14891905e-01  6.28795177e-02 -4.47840840e-02  4.59685735e-02\n",
            "  2.28131562e-02  2.39715233e-01  2.16640569e-02  7.56994933e-02\n",
            "  7.25479275e-02 -2.12595508e-01 -3.17018256e-02  1.75617978e-01\n",
            "  1.16614237e-01  1.87761128e-01 -5.23434877e-02  1.26436412e-01\n",
            "  1.70193449e-01 -1.07564844e-01  7.81135038e-02  2.12555289e-01\n",
            " -5.70309162e-02  9.05565321e-02 -1.88474759e-01  9.64211822e-02\n",
            "  3.91710252e-02 -1.95013254e-03 -3.80934596e-01  2.09646896e-01\n",
            " -9.98702249e-04  9.41597596e-02 -1.42464504e-01 -1.65631194e-02\n",
            " -7.55091384e-02  8.67938846e-02  1.08608618e-01  4.55869362e-02\n",
            "  4.33201902e-02  1.76215306e-01 -5.83453756e-03 -2.22821414e-01\n",
            "  1.07587561e-01 -2.81930178e-01  9.92109030e-02  5.60606346e-02\n",
            " -1.21222138e-01 -2.12018788e-01  4.72052723e-01 -3.12591828e-02\n",
            " -5.42412922e-02 -7.44261965e-02  3.52113754e-01 -1.90538943e-01\n",
            " -7.09711239e-02  1.26500160e-01 -8.27063695e-02 -2.49383450e-01\n",
            "  3.60160917e-01 -4.97583784e-02  1.39887974e-01  6.15979731e-02\n",
            " -2.80842483e-01 -2.78978139e-01  1.32049369e-02  1.59579322e-01\n",
            " -9.90456715e-02 -1.41615823e-01  2.03401580e-01  3.06724429e-01\n",
            "  8.00921768e-02  1.03146449e-01 -1.84937827e-02 -1.72093600e-01\n",
            " -5.00345118e-02 -2.73426086e-01 -1.09151237e-01 -2.43122593e-01\n",
            "  4.89120372e-02 -2.03040734e-04  2.16287613e-01 -3.27757820e-02\n",
            "  2.49404564e-01 -1.49146728e-02  2.37480059e-01 -3.74893248e-02\n",
            "  2.34831229e-01 -2.00750634e-01 -4.97181853e-03  1.14014670e-02\n",
            "  1.63772311e-02 -1.84596679e-03  3.10765058e-01  3.27039659e-02\n",
            " -7.81936795e-02 -1.61034450e-01  3.56368750e-01  4.25313175e-01]\n"
          ]
        }
      ]
    },
    {
      "cell_type": "markdown",
      "source": [
        "We can also find out the similarity between given words (the cosine distance between their vectors)."
      ],
      "metadata": {
        "id": "AO2SKrUqcQiY"
      }
    },
    {
      "cell_type": "code",
      "source": [
        "w2v.wv.similarity('vladimir', 'putin')"
      ],
      "metadata": {
        "colab": {
          "base_uri": "https://localhost:8080/"
        },
        "id": "JEpYSU0UskQE",
        "outputId": "af9a8cd1-351a-46a9-fbba-52afff9c10a3"
      },
      "execution_count": null,
      "outputs": [
        {
          "output_type": "execute_result",
          "data": {
            "text/plain": [
              "0.81842446"
            ]
          },
          "metadata": {},
          "execution_count": 12
        }
      ]
    },
    {
      "cell_type": "code",
      "source": [
        "w2v.wv.similarity('vladimir', 'modi')"
      ],
      "metadata": {
        "colab": {
          "base_uri": "https://localhost:8080/"
        },
        "id": "nmDQim-TswgY",
        "outputId": "f14c0c64-18fa-4cab-ca06-8a8b78139d1d"
      },
      "execution_count": null,
      "outputs": [
        {
          "output_type": "execute_result",
          "data": {
            "text/plain": [
              "0.6622772"
            ]
          },
          "metadata": {},
          "execution_count": 13
        }
      ]
    },
    {
      "cell_type": "markdown",
      "source": [
        "With the gensim, we can also find the most similar words to a given word."
      ],
      "metadata": {
        "id": "k7DftVIvca5Q"
      }
    },
    {
      "cell_type": "code",
      "source": [
        "print(w2v.wv.most_similar('pay'))"
      ],
      "metadata": {
        "colab": {
          "base_uri": "https://localhost:8080/"
        },
        "id": "MVNGUQbtf2ub",
        "outputId": "d5954546-653c-4436-f532-bf23c0d36cf5"
      },
      "execution_count": null,
      "outputs": [
        {
          "output_type": "stream",
          "name": "stdout",
          "text": [
            "[('paying', 0.7022949457168579), ('paid', 0.686174213886261), ('wages', 0.6507245898246765), ('bills', 0.6483527421951294), ('receive', 0.6030805110931396), ('leave', 0.6017082333564758), ('raise', 0.5998932123184204), ('rent', 0.594900369644165), ('wage', 0.569133996963501), ('benefits', 0.5625671148300171)]\n"
          ]
        }
      ]
    },
    {
      "cell_type": "code",
      "source": [
        "print(w2v.wv.most_similar('covid'))"
      ],
      "metadata": {
        "colab": {
          "base_uri": "https://localhost:8080/"
        },
        "id": "g_gJak11cvSU",
        "outputId": "62019d5a-1276-40c7-8bd9-1b5957fd4ad1"
      },
      "execution_count": null,
      "outputs": [
        {
          "output_type": "stream",
          "name": "stdout",
          "text": [
            "[('coronavirus', 0.6034492254257202), ('virus', 0.5288746953010559), ('corona', 0.5067222118377686), ('disease', 0.47963017225265503), ('coronacrisis', 0.4596719741821289), ('epidemic', 0.4517126977443695), ('coronavirusindia', 0.45097070932388306), ('flattenthecurve', 0.4467395842075348), ('coronaviruschallenge', 0.44602638483047485), ('corvid', 0.44361186027526855)]\n"
          ]
        }
      ]
    },
    {
      "cell_type": "code",
      "source": [
        "print(w2v.wv.most_similar('india'))"
      ],
      "metadata": {
        "colab": {
          "base_uri": "https://localhost:8080/"
        },
        "id": "RbX2SQUMcxQ6",
        "outputId": "6ecfb397-39d8-483f-c624-44f0b66726a3"
      },
      "execution_count": null,
      "outputs": [
        {
          "output_type": "stream",
          "name": "stdout",
          "text": [
            "[('nigeria', 0.7527592182159424), ('pakistan', 0.7506697177886963), ('kenya', 0.6827074885368347), ('amitshah', 0.6763262748718262), ('odisha', 0.6750248670578003), ('iran', 0.6640534400939941), ('drharshvardhan', 0.6618179082870483), ('irvpaswan', 0.6575825214385986), ('kuwait', 0.6487914323806763), ('pmoindia', 0.6474971175193787)]\n"
          ]
        }
      ]
    },
    {
      "cell_type": "markdown",
      "source": [
        "Similarly, we can use the same function to find analogies of the form: if x:y, then z:?. Here we enter the known relation x,y in the positive parameter, and the term who’s analogy has to be found in the negative parameter."
      ],
      "metadata": {
        "id": "GB4pamDxcfiZ"
      }
    },
    {
      "cell_type": "code",
      "source": [
        "print(w2v.wv.most_similar(positive=['russian', 'russia'], negative=['arab']))"
      ],
      "metadata": {
        "colab": {
          "base_uri": "https://localhost:8080/"
        },
        "id": "hF7gMd3mpwls",
        "outputId": "c5c3d132-1be5-4310-b956-02a4dcdf84d6"
      },
      "execution_count": null,
      "outputs": [
        {
          "output_type": "stream",
          "name": "stdout",
          "text": [
            "[('saudi', 0.7981306314468384), ('arabia', 0.773565411567688), ('putin', 0.7352633476257324), ('opec', 0.7199183702468872), ('trump', 0.7061201333999634), ('iran', 0.6621144413948059), ('saudis', 0.635714590549469), ('war', 0.622955322265625), ('donald', 0.6209783554077148), ('mbs', 0.6009782552719116)]\n"
          ]
        }
      ]
    },
    {
      "cell_type": "markdown",
      "source": [
        "We also have this method which works similar to an \"odd one out\" situation."
      ],
      "metadata": {
        "id": "oTQSJlPmiQ8E"
      }
    },
    {
      "cell_type": "code",
      "source": [
        "w2v.wv.doesnt_match(['grocery', 'covid', 'coronavirus'])\n"
      ],
      "metadata": {
        "id": "hlOpVQ1wV2hp",
        "colab": {
          "base_uri": "https://localhost:8080/",
          "height": 91
        },
        "outputId": "7e64373e-6d79-4ed5-8ccb-bafccd844b3d"
      },
      "execution_count": null,
      "outputs": [
        {
          "output_type": "stream",
          "name": "stderr",
          "text": [
            "/usr/local/lib/python3.7/dist-packages/gensim/models/keyedvectors.py:895: FutureWarning: arrays to stack must be passed as a \"sequence\" type such as list or tuple. Support for non-sequence iterables such as generators is deprecated as of NumPy 1.16 and will raise an error in the future.\n",
            "  vectors = vstack(self.word_vec(word, use_norm=True) for word in used_words).astype(REAL)\n"
          ]
        },
        {
          "output_type": "execute_result",
          "data": {
            "application/vnd.google.colaboratory.intrinsic+json": {
              "type": "string"
            },
            "text/plain": [
              "'grocery'"
            ]
          },
          "metadata": {},
          "execution_count": 18
        }
      ]
    },
    {
      "cell_type": "markdown",
      "source": [
        "## Visualising word vectors"
      ],
      "metadata": {
        "id": "uAI1BtondhOM"
      }
    },
    {
      "cell_type": "markdown",
      "source": [
        "Word2Vec word embedding can usually be of sizes 100 or 300, and it is practically not possible to visualise a 300 or 100 dimensional space with meaningful outputs. I used this [snippet](http://web.stanford.edu/class/cs224n/materials/Gensim%20word%20vector%20visualization.html) from [Stanford’s 224n course site](http://web.stanford.edu/class/cs224n/index.html#schedule), which basically provides you the option of either using a list of words, or providing the number of random samples you want to be displayed. In either case, it uses PCA to reduce the dimensionality and represent the word through their vectors on a 2-dimensional plane. The actual values of the axis are not of concern as they do not hold any significance, rather we can use it to perceive similar vectors to be densely located with respect to each other.\n"
      ],
      "metadata": {
        "id": "ah3KK1ABc8YZ"
      }
    },
    {
      "cell_type": "code",
      "source": [
        "from sklearn.decomposition import PCA\n",
        "from sklearn.manifold import TSNE\n",
        "\n",
        "def display_pca_scatterplot(model, words=None, sample=0):\n",
        "    if words == None:\n",
        "        if sample > 0:\n",
        "            words = np.random.choice(list(model.vocab.keys()), sample)\n",
        "        else:\n",
        "            words = [ word for word in model.vocab ]\n",
        "\n",
        "    word_vectors = np.array([model[w] for w in words])\n",
        "\n",
        "    twodim = PCA().fit_transform(word_vectors)[:,:2]\n",
        "\n",
        "    plt.figure(figsize=(6,6))\n",
        "    plt.scatter(twodim[:,0], twodim[:,1], edgecolors='k', c='r')\n",
        "    for word, (x,y) in zip(words, twodim):\n",
        "        plt.text(x+0.05, y+0.05, word)"
      ],
      "metadata": {
        "id": "0QLtf1sXVBdK"
      },
      "execution_count": null,
      "outputs": []
    },
    {
      "cell_type": "code",
      "source": [
        "display_pca_scatterplot(w2v,['coronavirus', 'covid', 'virus', 'corona','disease', 'saudiarabia',  'doctor', 'hospital', 'pakistan', 'kenya',\n",
        "                             'pay', 'paying', 'paid', 'wages', 'raise', 'bills', 'rent', 'charge']  )"
      ],
      "metadata": {
        "colab": {
          "base_uri": "https://localhost:8080/",
          "height": 408
        },
        "id": "-chXmtjNVNbz",
        "outputId": "21044141-a984-4d77-ade1-d782c2c6da96"
      },
      "execution_count": null,
      "outputs": [
        {
          "output_type": "stream",
          "name": "stderr",
          "text": [
            "/usr/local/lib/python3.7/dist-packages/ipykernel_launcher.py:11: DeprecationWarning: Call to deprecated `__getitem__` (Method will be removed in 4.0.0, use self.wv.__getitem__() instead).\n",
            "  # This is added back by InteractiveShellApp.init_path()\n"
          ]
        },
        {
          "output_type": "display_data",
          "data": {
            "image/png": "[encoded data removed]",
            "text/plain": [
              "<Figure size 432x432 with 1 Axes>"
            ]
          },
          "metadata": {
            "needs_background": "light"
          }
        }
      ]
    },
    {
      "cell_type": "markdown",
      "source": [
        "## Exporting pre trained embeddings + Saving/Loading our model"
      ],
      "metadata": {
        "id": "nI3E1N_BcrHp"
      }
    },
    {
      "cell_type": "markdown",
      "source": [
        "Gensim comes with several already pre-trained models, in the Gensim-data repository. We can import the downloader from the gensim library. We can use the following method to print the list of pre-trained models trained on large datasets available to us. This also  includes models like GloVe and fastext other than word2vec.\n",
        "\n"
      ],
      "metadata": {
        "id": "LeFWtrS_jh99"
      }
    },
    {
      "cell_type": "code",
      "source": [
        "import gensim.downloader\n",
        "print(list(gensim.downloader.info()['models'].keys()))\n"
      ],
      "metadata": {
        "id": "jeQ6sNXdnjgZ",
        "colab": {
          "base_uri": "https://localhost:8080/"
        },
        "outputId": "f44457d1-db7d-4a0b-a27a-479651193d58"
      },
      "execution_count": null,
      "outputs": [
        {
          "output_type": "stream",
          "name": "stdout",
          "text": [
            "['fasttext-wiki-news-subwords-300', 'conceptnet-numberbatch-17-06-300', 'word2vec-ruscorpora-300', 'word2vec-google-news-300', 'glove-wiki-gigaword-50', 'glove-wiki-gigaword-100', 'glove-wiki-gigaword-200', 'glove-wiki-gigaword-300', 'glove-twitter-25', 'glove-twitter-50', 'glove-twitter-100', 'glove-twitter-200', '__testing_word2vec-matrix-synopsis']\n"
          ]
        }
      ]
    },
    {
      "cell_type": "markdown",
      "source": [
        "Here we have used  'word2vec-google-news-300' (trained on google-news, size is 300), and found words similar to ‘twitter’."
      ],
      "metadata": {
        "id": "8a10LjhUjmYl"
      }
    },
    {
      "cell_type": "code",
      "source": [
        "google_news = gensim.downloader.load('word2vec-google-news-300')\n",
        "google_news.most_similar('twitter')"
      ],
      "metadata": {
        "id": "7kjdQXzgdzQs",
        "colab": {
          "base_uri": "https://localhost:8080/"
        },
        "outputId": "d129a82c-3f63-48df-ae6d-d80766c97323"
      },
      "execution_count": null,
      "outputs": [
        {
          "output_type": "stream",
          "name": "stdout",
          "text": [
            "[==================================================] 100.0% 1662.8/1662.8MB downloaded\n"
          ]
        },
        {
          "output_type": "execute_result",
          "data": {
            "text/plain": [
              "[('Twitter', 0.89089035987854),\n",
              " ('Twitter.com', 0.7536780834197998),\n",
              " ('tweet', 0.7431625723838806),\n",
              " ('tweeting', 0.7161933183670044),\n",
              " ('tweeted', 0.7137226462364197),\n",
              " ('facebook', 0.6988551616668701),\n",
              " ('tweets', 0.6974530816078186),\n",
              " ('Tweeted', 0.6950210928916931),\n",
              " ('Tweet', 0.6875007152557373),\n",
              " ('Tweeting', 0.6845167279243469)]"
            ]
          },
          "metadata": {},
          "execution_count": 3
        }
      ]
    },
    {
      "cell_type": "markdown",
      "source": [
        "We can save our existing models and load them again.\n"
      ],
      "metadata": {
        "id": "d-l6c2JHjqBl"
      }
    },
    {
      "cell_type": "code",
      "source": [
        "w2v.save(\"word2vec.model\")"
      ],
      "metadata": {
        "id": "QJ5YKbhssWip"
      },
      "execution_count": null,
      "outputs": []
    },
    {
      "cell_type": "code",
      "source": [
        "model = Word2Vec.load(\"word2vec.model\")\n",
        "model.train([[\"hello\", \"world\"]], total_examples=1, epochs=1)\n"
      ],
      "metadata": {
        "id": "o6O0oa3DeR2Q",
        "colab": {
          "base_uri": "https://localhost:8080/"
        },
        "outputId": "89b104c1-6516-48bd-dc79-8e3eed838b7d"
      },
      "execution_count": null,
      "outputs": [
        {
          "output_type": "execute_result",
          "data": {
            "text/plain": [
              "(2, 2)"
            ]
          },
          "metadata": {},
          "execution_count": 10
        }
      ]
    }
  ]
}