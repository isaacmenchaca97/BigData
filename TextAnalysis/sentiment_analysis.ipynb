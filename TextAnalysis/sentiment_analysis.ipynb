{
 "cells": [
  {
   "cell_type": "code",
   "execution_count": 4,
   "metadata": {},
   "outputs": [
    {
     "name": "stdout",
     "output_type": "stream",
     "text": [
      "Text: \"Very happy with this phone case. Has enough of a ridge around the camera to protect the lens. Time will tell if it ends up yellowing or not. Will order again.\"\n",
      "Polarity: 0.5, Subjectivity: 0.75\n",
      "\n",
      "Text: \"Just put this on my iPhone. It's really nice. Kind of a hard rubber feel to it. Screen protector and lens protector fit with the case. Very happy w this purchase.\"\n",
      "Polarity: 0.4616666666666666, Subjectivity: 0.7683333333333333\n",
      "\n",
      "Text: \"Most cases make my phone heavy but this didnt. It sticks to everything and stays in place!! Very easy to put it on or take out if you need to.\"\n",
      "Polarity: 0.25027777777777777, Subjectivity: 0.6666666666666666\n",
      "\n",
      "Text: \"I love this new case. It is light and because of the design, I don't need a screen protector. My husband ordered one as soon as he saw mine.\"\n",
      "Polarity: 0.34545454545454546, Subjectivity: 0.5848484848484848\n",
      "\n",
      "Text: \"This cover fits perfect, looks great and I can charge it on my stand without removing the cover. Gets this for your iPhone 15 Pro Max!\"\n",
      "Polarity: 1.0, Subjectivity: 0.875\n",
      "\n",
      "Text: \"As in description says it's yellowing resistant but it's start getting yellow in a 4,5 days not and the quality also is not good. Please don't waste your money to buy this product. Waste of time and money.\"\n",
      "Polarity: -0.1875, Subjectivity: 0.15000000000000002\n",
      "\n",
      "Text: \"I order the case for my iPhone 15 Pro Max, but it did not fit.\"\n",
      "Polarity: -0.2, Subjectivity: 0.4\n",
      "\n",
      "Text: \"This product is okay. It serves its purpose adequately without any major issues. It's not exceptional, but it gets the job done. Decent value for the price.\"\n",
      "Polarity: 0.14583333333333331, Subjectivity: 0.5999999999999999\n",
      "\n",
      "Text: \"Case is durable however although they claim it doesn't yellow it does yellow and it discolors. I wouldn't recommend it. I tried to contact them directly but they had no contact number.\"\n",
      "Polarity: 0.03333333333333333, Subjectivity: 0.13333333333333333\n",
      "\n",
      "Text: \"This case doesn't fit my husband's IPhone 15 Plus at all. Definitely sending it back. And will just stick to Otter Box.\"\n",
      "Polarity: 0.13333333333333333, Subjectivity: 0.3\n",
      "\n"
     ]
    },
    {
     "name": "stderr",
     "output_type": "stream",
     "text": [
      "[nltk_data] Downloading package punkt to\n",
      "[nltk_data]     /Users/isaacmenchaca/nltk_data...\n",
      "[nltk_data]   Package punkt is already up-to-date!\n"
     ]
    }
   ],
   "source": [
    "import nltk\n",
    "nltk.download('punkt')\n",
    "\n",
    "from textblob import TextBlob\n",
    "\n",
    "# Reviews de funda para iphone\n",
    "texts = [\n",
    "    \"Very happy with this phone case. Has enough of a ridge around the camera to protect the lens. Time will tell if it ends up yellowing or not. Will order again.\",\n",
    "    \"Just put this on my iPhone. It's really nice. Kind of a hard rubber feel to it. Screen protector and lens protector fit with the case. Very happy w this purchase.\",\n",
    "    \"Most cases make my phone heavy but this didnt. It sticks to everything and stays in place!! Very easy to put it on or take out if you need to.\",\n",
    "    \"I love this new case. It is light and because of the design, I don't need a screen protector. My husband ordered one as soon as he saw mine.\",\n",
    "    \"This cover fits perfect, looks great and I can charge it on my stand without removing the cover. Gets this for your iPhone 15 Pro Max!\",\n",
    "    \"As in description says it's yellowing resistant but it's start getting yellow in a 4,5 days not and the quality also is not good. Please don't waste your money to buy this product. Waste of time and money.\",\n",
    "    \"I order the case for my iPhone 15 Pro Max, but it did not fit.\",\n",
    "    \"This product is okay. It serves its purpose adequately without any major issues. It's not exceptional, but it gets the job done. Decent value for the price.\",\n",
    "    \"Case is durable however although they claim it doesn't yellow it does yellow and it discolors. I wouldn't recommend it. I tried to contact them directly but they had no contact number.\",\n",
    "    \"This case doesn't fit my husband's IPhone 15 Plus at all. Definitely sending it back. And will just stick to Otter Box.\",\n",
    "]\n",
    "\n",
    "# Función para obtener el sentimiento\n",
    "def get_sentiment(text):\n",
    "    analysis = TextBlob(text)\n",
    "    # Devuelve el sentimiento con polaridad y subjetividad\n",
    "    return analysis.sentiment\n",
    "\n",
    "# Analizar los textos\n",
    "for text in texts:\n",
    "    sentiment = get_sentiment(text)\n",
    "    print(f'Text: \"{text}\"')\n",
    "    print(f'Polarity: {sentiment.polarity}, Subjectivity: {sentiment.subjectivity}')\n",
    "    print()\n"
   ]
  }
 ],
 "metadata": {
  "kernelspec": {
   "display_name": "Python 3",
   "language": "python",
   "name": "python3"
  },
  "language_info": {
   "codemirror_mode": {
    "name": "ipython",
    "version": 3
   },
   "file_extension": ".py",
   "mimetype": "text/x-python",
   "name": "python",
   "nbconvert_exporter": "python",
   "pygments_lexer": "ipython3",
   "version": "3.12.1"
  }
 },
 "nbformat": 4,
 "nbformat_minor": 2
}
