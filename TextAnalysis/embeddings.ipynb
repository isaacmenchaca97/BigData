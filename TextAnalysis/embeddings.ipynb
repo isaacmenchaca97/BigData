{
 "cells": [
  {
   "cell_type": "code",
   "execution_count": 1,
   "metadata": {},
   "outputs": [
    {
     "name": "stdout",
     "output_type": "stream",
     "text": [
      "Vocabulario: {'el': 1, 'perro': 5, 'ladra': 3, 'gato': 2, 'maúlla': 4, 'son': 6, 'amigos': 0}\n",
      "Representación BoW:\n",
      " [[0 1 0 1 0 1 0]\n",
      " [0 1 1 0 1 0 0]\n",
      " [1 2 1 0 0 1 1]\n",
      " [0 2 1 1 1 1 0]]\n"
     ]
    }
   ],
   "source": [
    "from sklearn.feature_extraction.text import CountVectorizer\n",
    "\n",
    "# Ejemplo de documentos\n",
    "documents = [\n",
    "    \"El perro ladra\",\n",
    "    \"El gato maúlla\",\n",
    "    \"El perro y el gato son amigos\",\n",
    "    \"El perro ladra y el gato maúlla\"\n",
    "]\n",
    "\n",
    "# Crear el modelo BoW\n",
    "vectorizer = CountVectorizer()\n",
    "\n",
    "# Ajustar y transformar los documentos en vectores\n",
    "X = vectorizer.fit_transform(documents)\n",
    "\n",
    "# Mostrar el vocabulario\n",
    "print(\"Vocabulario:\", vectorizer.vocabulary_)\n",
    "\n",
    "# Mostrar la representación BoW de los documentos\n",
    "print(\"Representación BoW:\\n\", X.toarray())"
   ]
  },
  {
   "cell_type": "code",
   "execution_count": 4,
   "metadata": {},
   "outputs": [
    {
     "name": "stdout",
     "output_type": "stream",
     "text": [
      "Vector de 'perro':\n",
      " [ 9.4563962e-05  3.0773198e-03 -6.8126451e-03 -1.3754654e-03\n",
      "  7.6685809e-03  7.3464094e-03 -3.6732971e-03  2.6427018e-03\n",
      " -8.3171297e-03  6.2054861e-03 -4.6373224e-03 -3.1641065e-03\n",
      "  9.3113566e-03  8.7338570e-04  7.4907029e-03 -6.0740625e-03\n",
      "  5.1605068e-03  9.9228229e-03 -8.4573915e-03 -5.1356913e-03\n",
      " -7.0648370e-03 -4.8626517e-03 -3.7785638e-03 -8.5361991e-03\n",
      "  7.9556061e-03 -4.8439382e-03  8.4236134e-03  5.2625705e-03\n",
      " -6.5500261e-03  3.9578713e-03  5.4701497e-03 -7.4265362e-03\n",
      " -7.4057197e-03 -2.4752307e-03 -8.6257253e-03 -1.5815723e-03\n",
      " -4.0343284e-04  3.2996845e-03  1.4418805e-03 -8.8142155e-04\n",
      " -5.5940580e-03  1.7303658e-03 -8.9737179e-04  6.7936908e-03\n",
      "  3.9735902e-03  4.5294715e-03  1.4343059e-03 -2.6998555e-03\n",
      " -4.3668128e-03 -1.0320747e-03  1.4370275e-03 -2.6460087e-03\n",
      " -7.0737829e-03 -7.8053069e-03 -9.1217868e-03 -5.9351693e-03\n",
      " -1.8474245e-03 -4.3238713e-03 -6.4606704e-03 -3.7173224e-03\n",
      "  4.2891586e-03 -3.7390434e-03  8.3781751e-03  1.5339935e-03\n",
      " -7.2423196e-03  9.4337985e-03  7.6312125e-03  5.4932819e-03\n",
      " -6.8488456e-03  5.8226790e-03  4.0090932e-03  5.1853694e-03\n",
      "  4.2559016e-03  1.9397545e-03 -3.1701624e-03  8.3538452e-03\n",
      "  9.6121803e-03  3.7926030e-03 -2.8369951e-03  7.1275235e-06\n",
      "  1.2188185e-03 -8.4583247e-03 -8.2239453e-03 -2.3101569e-04\n",
      "  1.2372875e-03 -5.7433806e-03 -4.7252737e-03 -7.3460746e-03\n",
      "  8.3286157e-03  1.2129784e-04 -4.5093987e-03  5.7017053e-03\n",
      "  9.1800150e-03 -4.0998720e-03  7.9646818e-03  5.3754342e-03\n",
      "  5.8791232e-03  5.1259040e-04  8.2130842e-03 -7.0190406e-03] de Tamaño  100\n",
      "Palabras similares a 'perro':\n",
      " [('maúlla', 0.17018885910511017), ('amigos', 0.14595060050487518), ('ladra', 0.06408978998661041), ('son', -0.002754023764282465), ('y', -0.013514941558241844), ('gato', -0.023671653121709824), ('el', -0.05234672874212265)]\n"
     ]
    }
   ],
   "source": [
    "import gensim\n",
    "from gensim.models import Word2Vec\n",
    "\n",
    "# Ejemplo de corpus de documentos\n",
    "sentences = [\n",
    "    ['el', 'perro', 'ladra'],\n",
    "    ['el', 'gato', 'maúlla'],\n",
    "    ['el', 'perro', 'y', 'el', 'gato', 'son', 'amigos'],\n",
    "    ['el', 'perro', 'ladra', 'y', 'el', 'gato', 'maúlla']\n",
    "]\n",
    "\n",
    "# Entrenar el modelo Word2Vec\n",
    "model = Word2Vec(sentences, vector_size=100, window=5, min_count=1, workers=4)\n",
    "\n",
    "# Obtener el vector de la palabra 'perro'\n",
    "vector = model.wv['perro']\n",
    "print( \"Vector de 'perro':\\n\", vector, \"de Tamaño \", vector.shape[0])\n",
    "\n",
    "      \n",
    "# Encontrar palabras similares a 'perro'\n",
    "similar_words = model.wv.most_similar('perro')\n",
    "print(\"Palabras similares a 'perro':\\n\", similar_words)\n"
   ]
  },
  {
   "cell_type": "code",
   "execution_count": 5,
   "metadata": {},
   "outputs": [
    {
     "name": "stdout",
     "output_type": "stream",
     "text": [
      "Vector de 'doc1':\n",
      " [-0.00523712 -0.00598646 -0.00987788  0.00855222  0.00357316  0.00026141\n",
      " -0.00987699 -0.00517173 -0.00971827  0.00201409  0.00282551  0.00464802\n",
      " -0.00430254 -0.00314885 -0.00307666 -0.00871805  0.00217124  0.00922598\n",
      " -0.00950408 -0.00345932 -0.00377703  0.00260302 -0.00568931  0.00262589\n",
      "  0.00580102 -0.00810679 -0.00833266 -0.00995493  0.00493033 -0.00912276\n",
      "  0.0058403   0.00679778 -0.00650261 -0.00452599 -0.00125707  0.00164952\n",
      " -0.00148704 -0.00854769 -0.00360297  0.00172834 -0.00205181 -0.00722613\n",
      "  0.00419036 -0.00857468  0.00270903 -0.00461518  0.00064432 -0.00205395\n",
      "  0.00541016 -0.00801009 -0.00212653 -0.00010093 -0.00664452 -0.00652926\n",
      " -0.00193493  0.00880966 -0.00126062  0.00354016 -0.00575008  0.00881831\n",
      "  0.0029191   0.00928757  0.00435432 -0.00419932  0.00224115 -0.00441026\n",
      "  0.00578298  0.00183784 -0.00227519 -0.00587963 -0.00803539 -0.00085109\n",
      " -0.00894284 -0.00922349 -0.00793784  0.00216816 -0.00650811 -0.00779177\n",
      "  0.00212847  0.00205082  0.00834689  0.00467235 -0.00941201 -0.00033874\n",
      "  0.00785296  0.00267828  0.00268141 -0.00488653  0.00646293  0.00165103\n",
      " -0.00760886  0.00686273 -0.0097776  -0.00815981 -0.00487008  0.0099439\n",
      "  0.00311186 -0.00201327  0.00890355  0.00234753] de Tamaño  100\n",
      "Documentos similares a 'doc1':\n",
      " [('doc2', 0.16251666843891144), ('doc3', 0.0014203854370862246), ('doc4', -0.016057293862104416)]\n"
     ]
    }
   ],
   "source": [
    "from gensim.models import Doc2Vec\n",
    "from gensim.models.doc2vec import TaggedDocument\n",
    "\n",
    "# Ejemplo de corpus de documentos\n",
    "documents = [\n",
    "    TaggedDocument(words=['el', 'perro', 'ladra'], tags=['doc1']),\n",
    "    TaggedDocument(words=['el', 'gato', 'maúlla'], tags=['doc2']),\n",
    "    TaggedDocument(words=['el', 'perro', 'y', 'el', 'gato', 'son', 'amigos'], tags=['doc3']),\n",
    "    TaggedDocument(words=['el', 'perro', 'ladra', 'y', 'el', 'gato', 'maúlla'], tags=['doc4'])\n",
    "]\n",
    "\n",
    "# Entrenar el modelo Doc2Vec\n",
    "model = Doc2Vec(documents, vector_size=100, window=5, min_count=1, workers=4)\n",
    "\n",
    "# Obtener el vector del documento 'doc1'\n",
    "vector = model.dv['doc1']\n",
    "print(\"Vector de 'doc1':\\n\", vector, \"de Tamaño \", vector.shape[0])\n",
    "\n",
    "# Encontrar documentos similares a 'doc1'\n",
    "similar_docs = model.dv.most_similar('doc1')\n",
    "print(\"Documentos similares a 'doc1':\\n\", similar_docs)\n"
   ]
  }
 ],
 "metadata": {
  "kernelspec": {
   "display_name": "Python 3",
   "language": "python",
   "name": "python3"
  },
  "language_info": {
   "codemirror_mode": {
    "name": "ipython",
    "version": 3
   },
   "file_extension": ".py",
   "mimetype": "text/x-python",
   "name": "python",
   "nbconvert_exporter": "python",
   "pygments_lexer": "ipython3",
   "version": "3.12.1"
  }
 },
 "nbformat": 4,
 "nbformat_minor": 2
}
