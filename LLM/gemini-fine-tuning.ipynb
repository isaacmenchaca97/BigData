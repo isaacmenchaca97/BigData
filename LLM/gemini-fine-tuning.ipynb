{
 "cells": [
  {
   "cell_type": "code",
   "execution_count": null,
   "metadata": {},
   "outputs": [],
   "source": [
    "# Before you start run this command:\n",
    "# pip install --upgrade --user --quiet google-cloud-aiplatform\n",
    "# after running pip install make sure you restart your kernel\n",
    "import vertexai\n",
    "from vertexai.generative_models import GenerativeModel\n",
    "from vertexai.preview.tuning import sft\n",
    "# TODO : Set values as per your requirements\n",
    "# Project and Storage Constants\n",
    "PROJECT_ID = '<project_id>'\n",
    "REGION = '<region>'\n",
    "vertexai.init(project=PROJECT_ID, location=REGION)\n",
    "# define training & eval dataset.\n",
    "TRAINING_DATASET = 'gs://cloud-samples-data/vertex-ai/model-evaluation/peft_train_sample.jsonl'\n",
    "# set base model and specify a name for the tuned model\n",
    "BASE_MODEL = 'gemini-1.5-pro-002'\n",
    "TUNED_MODEL_DISPLAY_NAME = 'gemini-fine-tuning-v1'\n",
    "# start the fine-tuning job\n",
    "sft_tuning_job = sft.train(\n",
    "source_model=BASE_MODEL,\n",
    "train_dataset=TRAINING_DATASET,\n",
    "# # Optional:\n",
    "tuned_model_display_name=TUNED_MODEL_DISPLAY_NAME,\n",
    ")\n",
    "# Get the tuning job info.\n",
    "sft_tuning_job.to_dict()\n",
    "# tuned model endpoint name\n",
    "tuned_model_endpoint_name = sft_tuning_job.tuned_model_endpoint_name\n",
    "# use the tuned model\n",
    "tuned_genai_model = GenerativeModel(tuned_model_endpoint_name)\n",
    "print(tuned_genai_model.generate_content(contents='What is a LLM?'))"
   ]
  }
 ],
 "metadata": {
  "language_info": {
   "name": "python"
  }
 },
 "nbformat": 4,
 "nbformat_minor": 2
}
