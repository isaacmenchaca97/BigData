{
 "cells": [
  {
   "cell_type": "code",
   "execution_count": 6,
   "metadata": {},
   "outputs": [
    {
     "name": "stdout",
     "output_type": "stream",
     "text": [
      "<!doctype html>\n",
      "<html>\n",
      "<head>\n",
      "    <title>Example Domain</title>\n",
      "\n",
      "    <meta charset=\"utf-8\" />\n",
      "    <meta http-equiv=\"Content-type\" content=\"text/html; charset=utf-8\" />\n",
      "    <meta name=\"viewport\" content=\"width=device-width, initial-scale=1\" />\n",
      "    <style type=\"text/css\">\n",
      "    body {\n",
      "        background-color: #f0f0f2;\n",
      "        margin: 0;\n",
      "        padding: 0;\n",
      "        font-family: -apple-system, system-ui, BlinkMacSystemFont, \"Segoe UI\", \"Open Sans\", \"Helvetica Neue\", Helvetica, Arial, sans-serif;\n",
      "        \n",
      "    }\n",
      "    div {\n",
      "        width: 600px;\n",
      "        margin: 5em auto;\n",
      "        padding: 2em;\n",
      "        background-color: #fdfdff;\n",
      "        border-radius: 0.5em;\n",
      "        box-shadow: 2px 3px 7px 2px rgba(0,0,0,0.02);\n",
      "    }\n",
      "    a:link, a:visited {\n",
      "        color: #38488f;\n",
      "        text-decoration: none;\n",
      "    }\n",
      "    @media (max-width: 700px) {\n",
      "        div {\n",
      "            margin: 0 auto;\n",
      "            width: auto;\n",
      "        }\n",
      "    }\n",
      "    </style>    \n",
      "</head>\n",
      "\n",
      "<body>\n",
      "<div>\n",
      "    <h1>Example Domain</h1>\n",
      "    <p>This domain is for use in illustrative examples in documents. You may use this\n",
      "    domain in literature without prior coordination or asking for permission.</p>\n",
      "    <p><a href=\"https://www.iana.org/domains/example\">More information...</a></p>\n",
      "</div>\n",
      "</body>\n",
      "</html>\n",
      "\n",
      "Result:  1\n",
      "\n",
      "Example Domain\n",
      "This domain is for use in illustrative examples in documents. You may use this\n",
      "    domain in literature without prior coordination or asking for permission.\n",
      "More information...\n",
      "\n"
     ]
    }
   ],
   "source": [
    "import requests\n",
    "from bs4 import BeautifulSoup\n",
    "\n",
    "# URL de la página web que queremos extraer\n",
    "url = 'https://example.com'\n",
    "\n",
    "# Realizar la solicitud a la página web\n",
    "response = requests.get(url)\n",
    "\n",
    "# Crear objeto BeautifulSoup\n",
    "soup = BeautifulSoup(response.text, 'html.parser')\n",
    "\n",
    "print(response.text)\n",
    "\n",
    "# Extraer datos específicos (por ejemplo, todos los # encabezados h2, h1, head, title, etc.)\n",
    "headings = soup.find_all('div')\n",
    "i=1\n",
    "for heading in headings:\n",
    "    print(\"Result: \", i)\n",
    "    print(heading.text)\n"
   ]
  },
  {
   "cell_type": "code",
   "execution_count": 8,
   "metadata": {},
   "outputs": [
    {
     "name": "stdout",
     "output_type": "stream",
     "text": [
      "{'id': 81598961, 'node_id': 'MDEwOlJlcG9zaXRvcnk4MTU5ODk2MQ==', 'name': 'cpython', 'full_name': 'python/cpython', 'private': False, 'owner': {'login': 'python', 'id': 1525981, 'node_id': 'MDEyOk9yZ2FuaXphdGlvbjE1MjU5ODE=', 'avatar_url': 'https://avatars.githubusercontent.com/u/1525981?v=4', 'gravatar_id': '', 'url': 'https://api.github.com/users/python', 'html_url': 'https://github.com/python', 'followers_url': 'https://api.github.com/users/python/followers', 'following_url': 'https://api.github.com/users/python/following{/other_user}', 'gists_url': 'https://api.github.com/users/python/gists{/gist_id}', 'starred_url': 'https://api.github.com/users/python/starred{/owner}{/repo}', 'subscriptions_url': 'https://api.github.com/users/python/subscriptions', 'organizations_url': 'https://api.github.com/users/python/orgs', 'repos_url': 'https://api.github.com/users/python/repos', 'events_url': 'https://api.github.com/users/python/events{/privacy}', 'received_events_url': 'https://api.github.com/users/python/received_events', 'type': 'Organization', 'site_admin': False}, 'html_url': 'https://github.com/python/cpython', 'description': 'The Python programming language', 'fork': False, 'url': 'https://api.github.com/repos/python/cpython', 'forks_url': 'https://api.github.com/repos/python/cpython/forks', 'keys_url': 'https://api.github.com/repos/python/cpython/keys{/key_id}', 'collaborators_url': 'https://api.github.com/repos/python/cpython/collaborators{/collaborator}', 'teams_url': 'https://api.github.com/repos/python/cpython/teams', 'hooks_url': 'https://api.github.com/repos/python/cpython/hooks', 'issue_events_url': 'https://api.github.com/repos/python/cpython/issues/events{/number}', 'events_url': 'https://api.github.com/repos/python/cpython/events', 'assignees_url': 'https://api.github.com/repos/python/cpython/assignees{/user}', 'branches_url': 'https://api.github.com/repos/python/cpython/branches{/branch}', 'tags_url': 'https://api.github.com/repos/python/cpython/tags', 'blobs_url': 'https://api.github.com/repos/python/cpython/git/blobs{/sha}', 'git_tags_url': 'https://api.github.com/repos/python/cpython/git/tags{/sha}', 'git_refs_url': 'https://api.github.com/repos/python/cpython/git/refs{/sha}', 'trees_url': 'https://api.github.com/repos/python/cpython/git/trees{/sha}', 'statuses_url': 'https://api.github.com/repos/python/cpython/statuses/{sha}', 'languages_url': 'https://api.github.com/repos/python/cpython/languages', 'stargazers_url': 'https://api.github.com/repos/python/cpython/stargazers', 'contributors_url': 'https://api.github.com/repos/python/cpython/contributors', 'subscribers_url': 'https://api.github.com/repos/python/cpython/subscribers', 'subscription_url': 'https://api.github.com/repos/python/cpython/subscription', 'commits_url': 'https://api.github.com/repos/python/cpython/commits{/sha}', 'git_commits_url': 'https://api.github.com/repos/python/cpython/git/commits{/sha}', 'comments_url': 'https://api.github.com/repos/python/cpython/comments{/number}', 'issue_comment_url': 'https://api.github.com/repos/python/cpython/issues/comments{/number}', 'contents_url': 'https://api.github.com/repos/python/cpython/contents/{+path}', 'compare_url': 'https://api.github.com/repos/python/cpython/compare/{base}...{head}', 'merges_url': 'https://api.github.com/repos/python/cpython/merges', 'archive_url': 'https://api.github.com/repos/python/cpython/{archive_format}{/ref}', 'downloads_url': 'https://api.github.com/repos/python/cpython/downloads', 'issues_url': 'https://api.github.com/repos/python/cpython/issues{/number}', 'pulls_url': 'https://api.github.com/repos/python/cpython/pulls{/number}', 'milestones_url': 'https://api.github.com/repos/python/cpython/milestones{/number}', 'notifications_url': 'https://api.github.com/repos/python/cpython/notifications{?since,all,participating}', 'labels_url': 'https://api.github.com/repos/python/cpython/labels{/name}', 'releases_url': 'https://api.github.com/repos/python/cpython/releases{/id}', 'deployments_url': 'https://api.github.com/repos/python/cpython/deployments', 'created_at': '2017-02-10T19:23:51Z', 'updated_at': '2024-06-12T03:37:56Z', 'pushed_at': '2024-06-12T04:18:32Z', 'git_url': 'git://github.com/python/cpython.git', 'ssh_url': 'git@github.com:python/cpython.git', 'clone_url': 'https://github.com/python/cpython.git', 'svn_url': 'https://github.com/python/cpython', 'homepage': 'https://www.python.org/', 'size': 607326, 'stargazers_count': 60435, 'watchers_count': 60435, 'language': 'Python', 'has_issues': True, 'has_projects': True, 'has_downloads': True, 'has_wiki': False, 'has_pages': False, 'has_discussions': False, 'forks_count': 29216, 'mirror_url': None, 'archived': False, 'disabled': False, 'open_issues_count': 8579, 'license': {'key': 'other', 'name': 'Other', 'spdx_id': 'NOASSERTION', 'url': None, 'node_id': 'MDc6TGljZW5zZTA='}, 'allow_forking': True, 'is_template': False, 'web_commit_signoff_required': False, 'topics': [], 'visibility': 'public', 'forks': 29216, 'open_issues': 8579, 'watchers': 60435, 'default_branch': 'main', 'temp_clone_token': None, 'custom_properties': {}, 'organization': {'login': 'python', 'id': 1525981, 'node_id': 'MDEyOk9yZ2FuaXphdGlvbjE1MjU5ODE=', 'avatar_url': 'https://avatars.githubusercontent.com/u/1525981?v=4', 'gravatar_id': '', 'url': 'https://api.github.com/users/python', 'html_url': 'https://github.com/python', 'followers_url': 'https://api.github.com/users/python/followers', 'following_url': 'https://api.github.com/users/python/following{/other_user}', 'gists_url': 'https://api.github.com/users/python/gists{/gist_id}', 'starred_url': 'https://api.github.com/users/python/starred{/owner}{/repo}', 'subscriptions_url': 'https://api.github.com/users/python/subscriptions', 'organizations_url': 'https://api.github.com/users/python/orgs', 'repos_url': 'https://api.github.com/users/python/repos', 'events_url': 'https://api.github.com/users/python/events{/privacy}', 'received_events_url': 'https://api.github.com/users/python/received_events', 'type': 'Organization', 'site_admin': False}, 'network_count': 29216, 'subscribers_count': 1516}\n",
      "Repository: cpython\n",
      "Description: The Python programming language\n",
      "Stars: 60435\n",
      "Forks: 29216\n"
     ]
    }
   ],
   "source": [
    "import requests\n",
    "\n",
    "# URL de la API de GitHub\n",
    "url = 'https://api.github.com/repos/python/cpython'\n",
    "\n",
    "# Realizar la solicitud a la API\n",
    "response = requests.get(url)\n",
    "data = response.json()\n",
    "\n",
    "# Mostrar información específica del repositorio\n",
    "print(data)\n",
    "print(f\"Repository: {data['name']}\")\n",
    "print(f\"Description: {data['description']}\")\n",
    "print(f\"Stars: {data['stargazers_count']}\")\n",
    "print(f\"Forks: {data['forks_count']}\")"
   ]
  },
  {
   "cell_type": "code",
   "execution_count": 26,
   "metadata": {},
   "outputs": [
    {
     "name": "stdout",
     "output_type": "stream",
     "text": [
      "                         mpg    cyl   disp    hp    drat   wt      qsec    \\\n",
      "0  Mazda RX4              21.0     6   160.0  110    3.90   2.620   16.46   \n",
      "1  Mazda RX4 Wag          21.0     6   160.0         3.90   2.875   17.02   \n",
      "2  Datsun 710             22.8     4   108.0   93    3.85   2.320   18.61   \n",
      "3  Hornet 4 Drive         21.4     6   258.0  110    3.08   3.215   19.44   \n",
      "4  Hornet Sportabout      18.7     8   360.0  175    3.15   3.440   17.02   \n",
      "\n",
      "   vs   am   gear   carb  \n",
      "0    0    1      4     4  \n",
      "1    0    1      4     4  \n",
      "2    1    1      4     1  \n",
      "3    1    0      3     1  \n",
      "4    0    0      3     2  \n",
      "                         object\n",
      "mpg                     float64\n",
      "cyl                       int64\n",
      "disp                    float64\n",
      "hp                       object\n",
      "drat                    float64\n",
      "wt                      float64\n",
      "qsec                    float64\n",
      "vs                        int64\n",
      "am                        int64\n",
      "gear                      int64\n",
      "carb                      int64\n",
      "dtype: object\n"
     ]
    },
    {
     "name": "stderr",
     "output_type": "stream",
     "text": [
      "<>:31: SyntaxWarning: invalid escape sequence '\\d'\n",
      "<>:31: SyntaxWarning: invalid escape sequence '\\d'\n",
      "/var/folders/k4/jmfcdlnj0737gj65_12sh9wm0000gn/T/ipykernel_29467/3823779132.py:31: SyntaxWarning: invalid escape sequence '\\d'\n",
      "  df_filtered.to_csv('.\\dataset\\cleaned_cars_dataset.csv', index=False)\n",
      "/var/folders/k4/jmfcdlnj0737gj65_12sh9wm0000gn/T/ipykernel_29467/3823779132.py:31: SyntaxWarning: invalid escape sequence '\\d'\n",
      "  df_filtered.to_csv('.\\dataset\\cleaned_cars_dataset.csv', index=False)\n"
     ]
    },
    {
     "ename": "AttributeError",
     "evalue": "'Index' object has no attribute 'mean'",
     "output_type": "error",
     "traceback": [
      "\u001b[0;31m---------------------------------------------------------------------------\u001b[0m",
      "\u001b[0;31mAttributeError\u001b[0m                            Traceback (most recent call last)",
      "Cell \u001b[0;32mIn[26], line 12\u001b[0m\n\u001b[1;32m      9\u001b[0m \u001b[38;5;28mprint\u001b[39m(df\u001b[38;5;241m.\u001b[39mdtypes)\n\u001b[1;32m     11\u001b[0m \u001b[38;5;66;03m# 3. Handle Missing Values\u001b[39;00m\n\u001b[0;32m---> 12\u001b[0m df\u001b[38;5;241m.\u001b[39mcolumns[\u001b[38;5;241m3\u001b[39m:\u001b[38;5;241m4\u001b[39m]\u001b[38;5;241m.\u001b[39mfillna(\u001b[43mdf\u001b[49m\u001b[38;5;241;43m.\u001b[39;49m\u001b[43mcolumns\u001b[49m\u001b[43m[\u001b[49m\u001b[38;5;241;43m3\u001b[39;49m\u001b[43m:\u001b[49m\u001b[38;5;241;43m4\u001b[39;49m\u001b[43m]\u001b[49m\u001b[38;5;241;43m.\u001b[39;49m\u001b[43mmean\u001b[49m(), inplace\u001b[38;5;241m=\u001b[39m\u001b[38;5;28;01mTrue\u001b[39;00m)\n\u001b[1;32m     13\u001b[0m df\u001b[38;5;241m.\u001b[39mdropna(subset\u001b[38;5;241m=\u001b[39m[\u001b[38;5;124m'\u001b[39m\u001b[38;5;124mhp\u001b[39m\u001b[38;5;124m'\u001b[39m], inplace\u001b[38;5;241m=\u001b[39m\u001b[38;5;28;01mTrue\u001b[39;00m)\n\u001b[1;32m     15\u001b[0m \u001b[38;5;66;03m# 4. Filter Data\u001b[39;00m\n",
      "\u001b[0;31mAttributeError\u001b[0m: 'Index' object has no attribute 'mean'"
     ]
    }
   ],
   "source": [
    "import pandas as pd\n",
    "import numpy as np\n",
    "\n",
    "# 1. Load the Dataset\n",
    "df = pd.read_csv('cars.csv')\n",
    "\n",
    "# 2. Inspect the Dataset\n",
    "print(df.head())\n",
    "print(df.dtypes)\n",
    "\n",
    "# 3. Handle Missing Values\n",
    "df.columns[3:4].fillna(df.columns[3:4].mean(), inplace=True)\n",
    "df.dropna(subset=['hp'], inplace=True)\n",
    "\n",
    "# 4. Filter Data\n",
    "df_filtered = df[df['cyl'] == 6]\n",
    "print(df_filtered)\n",
    "\n",
    "# 5. Transform Columns\n",
    "def categorize_hp(hp):\n",
    "    if hp > 150:\n",
    "        return 'High'\n",
    "    elif hp > 80:\n",
    "        return 'Medium'\n",
    "    else:\n",
    "        return 'Low'\n",
    "\n",
    "df_filtered['HP_Category'] = df_filtered['hp'].apply(categorize_hp)\n",
    "\n",
    "# 6. Save the Cleaned Dataset\n",
    "df_filtered.to_csv('.\\dataset\\cleaned_cars_dataset.csv', index=False)\n",
    "\n",
    "print(\"Data cleaning and preparation complete. The cleaned dataset is saved as 'cleaned_cars_dataset.csv'.\")\n"
   ]
  }
 ],
 "metadata": {
  "kernelspec": {
   "display_name": ".venv",
   "language": "python",
   "name": "python3"
  },
  "language_info": {
   "codemirror_mode": {
    "name": "ipython",
    "version": 3
   },
   "file_extension": ".py",
   "mimetype": "text/x-python",
   "name": "python",
   "nbconvert_exporter": "python",
   "pygments_lexer": "ipython3",
   "version": "3.12.1"
  }
 },
 "nbformat": 4,
 "nbformat_minor": 2
}
